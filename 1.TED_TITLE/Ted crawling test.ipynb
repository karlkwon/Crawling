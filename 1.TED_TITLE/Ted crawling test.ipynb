{
 "cells": [
  {
   "cell_type": "markdown",
   "metadata": {},
   "source": [
    "### Author: Karl.Kwon"
   ]
  },
  {
   "cell_type": "markdown",
   "metadata": {},
   "source": [
    "## Job Flow\n",
    "1. get options in menu page without options<br>\n",
    "   ex: http://ed.ted.com/lessons\n",
    "\n",
    "2. per option, re-read menu page<br>\n",
    "   some option is not exclusive.<br>\n",
    "   \n",
    "3. to get a youtube id, open each lesson page<br>\n",
    "\n",
    "3. dump elasticsearch data"
   ]
  },
  {
   "cell_type": "markdown",
   "metadata": {},
   "source": [
    "~/tools/elasticsearch-2.3.4/bin/elasticsearch<br>\n",
    "\n",
    "http://localhost:9200/_plugin/hq/#cluster<br>\n",
    "\n",
    "https://github.com/knockrentals/scrapy-elasticsearch<br>\n",
    ": git<br>\n",
    "\n"
   ]
  },
  {
   "cell_type": "code",
   "execution_count": 37,
   "metadata": {
    "collapsed": false,
    "scrolled": true
   },
   "outputs": [
    {
     "name": "stdout",
     "output_type": "stream",
     "text": [
      "Requirement already satisfied (use --upgrade to upgrade): ScrapyElasticSearch in /home/mrthink/anaconda2/lib/python2.7/site-packages\n",
      "Requirement already satisfied (use --upgrade to upgrade): scrapy in /home/mrthink/anaconda2/lib/python2.7/site-packages (from ScrapyElasticSearch)\n",
      "Requirement already satisfied (use --upgrade to upgrade): elasticsearch in /home/mrthink/anaconda2/lib/python2.7/site-packages (from ScrapyElasticSearch)\n",
      "Requirement already satisfied (use --upgrade to upgrade): queuelib in /home/mrthink/anaconda2/lib/python2.7/site-packages (from scrapy->ScrapyElasticSearch)\n",
      "Requirement already satisfied (use --upgrade to upgrade): cssselect>=0.9 in /home/mrthink/anaconda2/lib/python2.7/site-packages (from scrapy->ScrapyElasticSearch)\n",
      "Requirement already satisfied (use --upgrade to upgrade): Twisted>=10.0.0 in /home/mrthink/anaconda2/lib/python2.7/site-packages (from scrapy->ScrapyElasticSearch)\n",
      "Requirement already satisfied (use --upgrade to upgrade): six>=1.5.2 in /home/mrthink/anaconda2/lib/python2.7/site-packages (from scrapy->ScrapyElasticSearch)\n",
      "Requirement already satisfied (use --upgrade to upgrade): w3lib>=1.14.2 in /home/mrthink/anaconda2/lib/python2.7/site-packages (from scrapy->ScrapyElasticSearch)\n",
      "Requirement already satisfied (use --upgrade to upgrade): service-identity in /home/mrthink/anaconda2/lib/python2.7/site-packages (from scrapy->ScrapyElasticSearch)\n",
      "Requirement already satisfied (use --upgrade to upgrade): pyOpenSSL in /home/mrthink/anaconda2/lib/python2.7/site-packages (from scrapy->ScrapyElasticSearch)\n",
      "Requirement already satisfied (use --upgrade to upgrade): lxml in /home/mrthink/anaconda2/lib/python2.7/site-packages (from scrapy->ScrapyElasticSearch)\n",
      "Requirement already satisfied (use --upgrade to upgrade): parsel>=0.9.3 in /home/mrthink/anaconda2/lib/python2.7/site-packages (from scrapy->ScrapyElasticSearch)\n",
      "Requirement already satisfied (use --upgrade to upgrade): PyDispatcher>=2.0.5 in /home/mrthink/anaconda2/lib/python2.7/site-packages (from scrapy->ScrapyElasticSearch)\n",
      "Requirement already satisfied (use --upgrade to upgrade): urllib3<2.0,>=1.8 in /home/mrthink/anaconda2/lib/python2.7/site-packages (from elasticsearch->ScrapyElasticSearch)\n",
      "Requirement already satisfied (use --upgrade to upgrade): zope.interface>=3.6.0 in /home/mrthink/anaconda2/lib/python2.7/site-packages (from Twisted>=10.0.0->scrapy->ScrapyElasticSearch)\n",
      "Requirement already satisfied (use --upgrade to upgrade): pyasn1-modules in /home/mrthink/anaconda2/lib/python2.7/site-packages (from service-identity->scrapy->ScrapyElasticSearch)\n",
      "Requirement already satisfied (use --upgrade to upgrade): pyasn1 in /home/mrthink/anaconda2/lib/python2.7/site-packages (from service-identity->scrapy->ScrapyElasticSearch)\n",
      "Requirement already satisfied (use --upgrade to upgrade): attrs in /home/mrthink/anaconda2/lib/python2.7/site-packages (from service-identity->scrapy->ScrapyElasticSearch)\n",
      "Requirement already satisfied (use --upgrade to upgrade): cryptography>=0.7 in /home/mrthink/anaconda2/lib/python2.7/site-packages (from pyOpenSSL->scrapy->ScrapyElasticSearch)\n",
      "Requirement already satisfied (use --upgrade to upgrade): setuptools in /home/mrthink/anaconda2/lib/python2.7/site-packages/setuptools-23.0.0-py2.7.egg (from zope.interface>=3.6.0->Twisted>=10.0.0->scrapy->ScrapyElasticSearch)\n",
      "Requirement already satisfied (use --upgrade to upgrade): idna in /home/mrthink/anaconda2/lib/python2.7/site-packages (from cryptography>=0.7->pyOpenSSL->scrapy->ScrapyElasticSearch)\n",
      "Requirement already satisfied (use --upgrade to upgrade): enum34 in /home/mrthink/anaconda2/lib/python2.7/site-packages (from cryptography>=0.7->pyOpenSSL->scrapy->ScrapyElasticSearch)\n",
      "Requirement already satisfied (use --upgrade to upgrade): ipaddress in /home/mrthink/anaconda2/lib/python2.7/site-packages (from cryptography>=0.7->pyOpenSSL->scrapy->ScrapyElasticSearch)\n",
      "Requirement already satisfied (use --upgrade to upgrade): cffi>=0.8 in /home/mrthink/anaconda2/lib/python2.7/site-packages (from cryptography>=0.7->pyOpenSSL->scrapy->ScrapyElasticSearch)\n",
      "Requirement already satisfied (use --upgrade to upgrade): pycparser in /home/mrthink/anaconda2/lib/python2.7/site-packages (from cffi>=0.8->cryptography>=0.7->pyOpenSSL->scrapy->ScrapyElasticSearch)\n"
     ]
    }
   ],
   "source": [
    "!pip install \"ScrapyElasticSearch\""
   ]
  },
  {
   "cell_type": "code",
   "execution_count": 36,
   "metadata": {
    "collapsed": false
   },
   "outputs": [
    {
     "name": "stdout",
     "output_type": "stream",
     "text": [
      "Collecting requests_ntlm\n",
      "  Downloading requests_ntlm-0.3.0-py2.py3-none-any.whl\n",
      "Collecting python-ntlm3 (from requests_ntlm)\n",
      "  Downloading python_ntlm3-1.0.2-py2.py3-none-any.whl\n",
      "Requirement already satisfied (use --upgrade to upgrade): requests>=2.0.0 in /home/mrthink/anaconda2/lib/python2.7/site-packages (from requests_ntlm)\n",
      "Requirement already satisfied (use --upgrade to upgrade): six in /home/mrthink/anaconda2/lib/python2.7/site-packages (from python-ntlm3->requests_ntlm)\n",
      "Installing collected packages: python-ntlm3, requests-ntlm\n",
      "Successfully installed python-ntlm3-1.0.2 requests-ntlm-0.3.0\n"
     ]
    }
   ],
   "source": [
    "!pip install requests_ntlm"
   ]
  },
  {
   "cell_type": "markdown",
   "metadata": {},
   "source": [
    "## Modified Code"
   ]
  },
  {
   "cell_type": "raw",
   "metadata": {
    "collapsed": false
   },
   "source": [
    "1. TED/items.py\n",
    "\n",
    "import scrapy\n",
    "from scrapy.item import Item, Field\n",
    "\n",
    "class TedItem(scrapy.Item):\n",
    "    title = Field()\n",
    "    duration = Field()\n",
    "    url = Field()\n",
    "    youtube = Field()\n",
    "    content_type = Field(serializer=str)\n",
    "    student_level = Field(serializer=str)\n",
    "    subtitles = Field(serializer=str)\n",
    "    \n",
    "2. TED/setting.py\n",
    "\n",
    "ITEM_PIPELINES = {\n",
    "    'scrapyelasticsearch.scrapyelasticsearch.ElasticSearchPipeline': 500\n",
    "}\n",
    "\n",
    "ELASTICSEARCH_SERVERS = ['localhost:9200']\n",
    "ELASTICSEARCH_INDEX = 'ted3'\n",
    "ELASTICSEARCH_TYPE = 'items'\n",
    "ELASTICSEARCH_UNIQ_KEY = 'url'  # Custom uniqe key\n",
    "\n",
    "3. TED/spiders/ted.py"
   ]
  },
  {
   "cell_type": "markdown",
   "metadata": {},
   "source": [
    "## Run"
   ]
  },
  {
   "cell_type": "code",
   "execution_count": 5,
   "metadata": {
    "collapsed": false
   },
   "outputs": [
    {
     "name": "stdout",
     "output_type": "stream",
     "text": [
      "rm: cannot remove ‘title.csv’: No such file or directory\r\n"
     ]
    }
   ],
   "source": [
    "!rm title.csv ted.json"
   ]
  },
  {
   "cell_type": "markdown",
   "metadata": {
    "collapsed": false,
    "scrolled": true
   },
   "source": [
    "Test: scrapy crawl ted -o ted.json<br>\n",
    "\n",
    "cd TED<br>\n",
    "scrapy crawl ted<br>"
   ]
  },
  {
   "cell_type": "code",
   "execution_count": 41,
   "metadata": {
    "collapsed": false
   },
   "outputs": [
    {
     "name": "stdout",
     "output_type": "stream",
     "text": [
      "total 144\r\n",
      "drwxrwxr-x 4 mrthink mrthink   4096  8월 23 00:26 .\r\n",
      "drwxrwxr-x 7 mrthink mrthink   4096  8월 23 00:10 ..\r\n",
      "drwxr-xr-x 2 mrthink mrthink   4096  8월 22 21:27 .ipynb_checkpoints\r\n",
      "-rw-rw-r-- 1 mrthink mrthink    250  8월 22 21:27 scrapy.cfg\r\n",
      "drwxrwxr-x 3 mrthink mrthink   4096  8월 23 00:16 TED\r\n",
      "-rw-rw-r-- 1 mrthink mrthink 125149  8월 23 00:26 test.ipynb\r\n"
     ]
    }
   ],
   "source": [
    "!ls -al"
   ]
  },
  {
   "cell_type": "code",
   "execution_count": 82,
   "metadata": {
    "collapsed": false
   },
   "outputs": [
    {
     "name": "stdout",
     "output_type": "stream",
     "text": [
      "[\r\n",
      "{\"duration\": \"07:26\", \"url\": \"http://ed.ted.com/featured/4eO5p5eB\", \"content_type\": \"[u'teded_selects']\", \"title\": \"This Video Will Make You Angry\"},\r\n",
      "{\"duration\": \"12:21\", \"url\": \"http://ed.ted.com/featured/Ge4NK6fZ\", \"content_type\": \"[u'teded_selects']\", \"title\": \"How to stay calm when you know you'll be stressed\"},\r\n",
      "{\"duration\": \"03:02\", \"url\": \"http://ed.ted.com/featured/8zBUzsFI\", \"content_type\": \"[u'teded_selects']\", \"title\": \"Could You Survive 2.5 Million Years Ago?\"},\r\n",
      "{\"duration\": \"10:46\", \"url\": \"http://ed.ted.com/featured/FBsEmgKM\", \"content_type\": \"[u'teded_selects']\", \"title\": \"Why Are Bad Words Bad?\"},\r\n",
      "{\"duration\": \"12:47\", \"url\": \"http://ed.ted.com/featured/zt8LPHB1\", \"content_type\": \"[u'teded_selects']\", \"title\": \"What Makes a Good Life? Lessons from the Longest Study on Happiness\"},\r\n",
      "{\"duration\": \"05:15\", \"url\": \"http://ed.ted.com/featured/iUTasbff\", \"content_type\": \"[u'teded_selects']\", \"title\": \"How to make magnetic slime\"},\r\n",
      "{\"duration\": \"03:42\", \"url\": \"http://ed.ted.com/featured/Gcg0K3Mv\", \"content_type\": \"[u'teded_selects']\", \"title\": \"The Case For Andy Warhol\"},\r\n",
      "{\"duration\": \"12:15\", \"url\": \"http://ed.ted.com/featured/OHNvndRL\", \"content_type\": \"[u'teded_selects']\", \"title\": \"Your words may predict your future mental health\"},\r\n",
      "{\"duration\": \"04:01\", \"url\": \"http://ed.ted.com/featured/xBNXhZgh\", \"content_type\": \"[u'teded_selects']\", \"title\": \"Why do we kiss?\"},\r\n"
     ]
    }
   ],
   "source": [
    "!head ted.json"
   ]
  },
  {
   "cell_type": "markdown",
   "metadata": {},
   "source": [
    "## Elasticsearch"
   ]
  },
  {
   "cell_type": "code",
   "execution_count": 9,
   "metadata": {
    "collapsed": false,
    "scrolled": true
   },
   "outputs": [
    {
     "name": "stdout",
     "output_type": "stream",
     "text": [
      "{\r\n",
      "  \"took\" : 9,\r\n",
      "  \"timed_out\" : false,\r\n",
      "  \"_shards\" : {\r\n",
      "    \"total\" : 5,\r\n",
      "    \"successful\" : 5,\r\n",
      "    \"failed\" : 0\r\n",
      "  },\r\n",
      "  \"hits\" : {\r\n",
      "    \"total\" : 695,\r\n",
      "    \"max_score\" : 0.3986189,\r\n",
      "    \"hits\" : [ {\r\n",
      "      \"_index\" : \"ted3\",\r\n",
      "      \"_type\" : \"items\",\r\n",
      "      \"_id\" : \"283eb5f1307b82eac604e36772c2a899a9f18070\",\r\n",
      "      \"_score\" : 0.3986189,\r\n",
      "      \"_source\" : {\r\n",
      "        \"title\" : \"Electric vocabulary - James Sheils\",\r\n",
      "        \"url\" : \"http://ed.ted.com/lessons/electric-vocabulary\",\r\n",
      "        \"youtube\" : \"MBRTR2dlwvA\",\r\n",
      "        \"content_type\" : [ \"originals\" ],\r\n",
      "        \"duration\" : \"06:57\",\r\n",
      "        \"subtitles\" : [ \"ko\", \"it\" ]\r\n",
      "      }\r\n",
      "    }, {\r\n",
      "      \"_index\" : \"ted3\",\r\n",
      "      \"_type\" : \"items\",\r\n",
      "      \"_id\" : \"e04fb9bfc912a68637e9331caf4d11e97844d232\",\r\n",
      "      \"_score\" : 0.3977171,\r\n",
      "      \"_source\" : {\r\n",
      "        \"title\" : \"Could we stop an asteroid?\",\r\n",
      "        \"url\" : \"http://ed.ted.com/featured/I1GW55AZ\",\r\n",
      "        \"youtube\" : \"Agdvt9M3NJA\",\r\n",
      "        \"student_level\" : [ \"2\", \"3\" ],\r\n",
      "        \"content_type\" : [ \"teded_selects\" ],\r\n",
      "        \"duration\" : \"07:08\",\r\n",
      "        \"subtitles\" : [ \"ko\" ]\r\n",
      "      }\r\n",
      "    }, {\r\n",
      "      \"_index\" : \"ted3\",\r\n",
      "      \"_type\" : \"items\",\r\n",
      "      \"_id\" : \"0356752a644108d2c3035d62275eb97769a84530\",\r\n",
      "      \"_score\" : 0.34879154,\r\n",
      "      \"_source\" : {\r\n",
      "        \"duration\" : \"06:24\",\r\n",
      "        \"url\" : \"http://ed.ted.com/lessons/insults-by-shakespeare\",\r\n",
      "        \"youtube\" : \"vdCjKH5IKJ8\",\r\n",
      "        \"subtitles\" : [ \"ja\", \"it\", \"ko\" ],\r\n",
      "        \"title\" : \"Insults by Shakespeare - April Gudenrath\"\r\n",
      "      }\r\n",
      "    }, {\r\n",
      "      \"_index\" : \"ted3\",\r\n",
      "      \"_type\" : \"items\",\r\n",
      "      \"_id\" : \"aad5b1d56c47381b885d7a15c78f9acc670cf8be\",\r\n",
      "      \"_score\" : 0.34800246,\r\n",
      "      \"_source\" : {\r\n",
      "        \"title\" : \"Click Your Fortune Episode 3 (Demo)\",\r\n",
      "        \"url\" : \"http://ed.ted.com/lessons/click-your-fortune-episode-3\",\r\n",
      "        \"youtube\" : \"KrEQTixCJLI\",\r\n",
      "        \"content_type\" : [ \"originals\" ],\r\n",
      "        \"duration\" : \"03:32\",\r\n",
      "        \"subtitles\" : [ \"ko\" ]\r\n",
      "      }\r\n",
      "    }, {\r\n",
      "      \"_index\" : \"ted3\",\r\n",
      "      \"_type\" : \"items\",\r\n",
      "      \"_id\" : \"3a0adb8499e71341f852c32dd0136d706c089552\",\r\n",
      "      \"_score\" : 0.34800246,\r\n",
      "      \"_source\" : {\r\n",
      "        \"duration\" : \"07:13\",\r\n",
      "        \"url\" : \"http://ed.ted.com/lessons/how-big-is-infinity\",\r\n",
      "        \"youtube\" : \"UPA3bwVVzGI\",\r\n",
      "        \"subtitles\" : [ \"ja\", \"ko\", \"it\" ],\r\n",
      "        \"title\" : \"How big is infinity? - Dennis Wildfogel\"\r\n",
      "      }\r\n",
      "    }, {\r\n",
      "      \"_index\" : \"ted3\",\r\n",
      "      \"_type\" : \"items\",\r\n",
      "      \"_id\" : \"20c20bf6b71a11f577ded6fb117e662fd0fba975\",\r\n",
      "      \"_score\" : 0.34800246,\r\n",
      "      \"_source\" : {\r\n",
      "        \"duration\" : \"03:19\",\r\n",
      "        \"url\" : \"http://ed.ted.com/lessons/michele-weldon-capturing-authentic-narratives\",\r\n",
      "        \"youtube\" : \"4mQN1hcFJwU\",\r\n",
      "        \"subtitles\" : [ \"ja\", \"ko\", \"it\" ],\r\n",
      "        \"title\" : \"Capturing authentic narratives - Michele Weldon\"\r\n",
      "      }\r\n",
      "    }, {\r\n",
      "      \"_index\" : \"ted3\",\r\n",
      "      \"_type\" : \"items\",\r\n",
      "      \"_id\" : \"d945bbfce413113b6e205a9c9750a30932e11283\",\r\n",
      "      \"_score\" : 0.34800246,\r\n",
      "      \"_source\" : {\r\n",
      "        \"duration\" : \"03:55\",\r\n",
      "        \"url\" : \"http://ed.ted.com/lessons/the-carbon-cycle-nathaniel-manning\",\r\n",
      "        \"youtube\" : \"A4cPmHGegKI\",\r\n",
      "        \"subtitles\" : [ \"ja\", \"ko\", \"it\" ],\r\n",
      "        \"title\" : \"The carbon cycle - Nathaniel Manning\"\r\n",
      "      }\r\n",
      "    }, {\r\n",
      "      \"_index\" : \"ted3\",\r\n",
      "      \"_type\" : \"items\",\r\n",
      "      \"_id\" : \"7e455ef424460072c1609fd090e8757ed4d95ebe\",\r\n",
      "      \"_score\" : 0.3431104,\r\n",
      "      \"_source\" : {\r\n",
      "        \"title\" : \"How batteries work - Adam Jacobson\",\r\n",
      "        \"url\" : \"http://ed.ted.com/lessons/why-batteries-die-adam-jacobson\",\r\n",
      "        \"youtube\" : \"9OVtk6G2TnQ\",\r\n",
      "        \"content_type\" : [ \"originals\" ],\r\n",
      "        \"duration\" : \"04:20\",\r\n",
      "        \"subtitles\" : [ \"ko\", \"ja\", \"it\" ]\r\n",
      "      }\r\n",
      "    }, {\r\n",
      "      \"_index\" : \"ted3\",\r\n",
      "      \"_type\" : \"items\",\r\n",
      "      \"_id\" : \"b708a2154a94f17d5ed8626fbe6befbc6c36591c\",\r\n",
      "      \"_score\" : 0.3431104,\r\n",
      "      \"_source\" : {\r\n",
      "        \"title\" : \"How do nerves work? - Elliot Krane\",\r\n",
      "        \"url\" : \"http://ed.ted.com/lessons/how-do-nerves-work\",\r\n",
      "        \"youtube\" : \"uU_4uA6-zcE\",\r\n",
      "        \"content_type\" : [ \"originals\" ],\r\n",
      "        \"duration\" : \"05:00\",\r\n",
      "        \"subtitles\" : [ \"ko\", \"it\" ]\r\n",
      "      }\r\n",
      "    }, {\r\n",
      "      \"_index\" : \"ted3\",\r\n",
      "      \"_type\" : \"items\",\r\n",
      "      \"_id\" : \"f58bf683a158176f4324af2255afb189d9e85bb9\",\r\n",
      "      \"_score\" : 0.34140807,\r\n",
      "      \"_source\" : {\r\n",
      "        \"title\" : \"Click Your Fortune Episode 1 (Demo)\",\r\n",
      "        \"url\" : \"http://ed.ted.com/lessons/click-your-fortune-episode-1\",\r\n",
      "        \"youtube\" : \"0MseOJ9LEnc\",\r\n",
      "        \"content_type\" : [ \"originals\" ],\r\n",
      "        \"duration\" : \"03:24\",\r\n",
      "        \"subtitles\" : [ \"ko\", \"it\" ]\r\n",
      "      }\r\n",
      "    } ]\r\n",
      "  }\r\n",
      "}\r\n"
     ]
    }
   ],
   "source": [
    "# subtitle exist !!!\n",
    "!curl \"http://localhost:9200/ted3/items/_search?q=ko&pretty\""
   ]
  },
  {
   "cell_type": "code",
   "execution_count": 2,
   "metadata": {
    "collapsed": false,
    "scrolled": true
   },
   "outputs": [
    {
     "name": "stdout",
     "output_type": "stream",
     "text": [
      "{\r\n",
      "  \"took\" : 8,\r\n",
      "  \"timed_out\" : false,\r\n",
      "  \"_shards\" : {\r\n",
      "    \"total\" : 5,\r\n",
      "    \"successful\" : 5,\r\n",
      "    \"failed\" : 0\r\n",
      "  },\r\n",
      "  \"hits\" : {\r\n",
      "    \"total\" : 134,\r\n",
      "    \"max_score\" : 1.8843144,\r\n",
      "    \"hits\" : [ {\r\n",
      "      \"_index\" : \"ted3\",\r\n",
      "      \"_type\" : \"items\",\r\n",
      "      \"_id\" : \"de7d6c10aba940df0e9651f5b112284d8cd40be1\",\r\n",
      "      \"_score\" : 1.8843144,\r\n",
      "      \"_source\" : {\r\n",
      "        \"title\" : \"A light switch for neurons - Ed Boyden\",\r\n",
      "        \"url\" : \"http://ed.ted.com/lessons/a-light-switch-for-neurons-ed-boyden\",\r\n",
      "        \"youtube\" : \"az9tHuOzOfA\",\r\n",
      "        \"student_level\" : [ \"2\", \"4\", \"3\" ],\r\n",
      "        \"content_type\" : [ \"talks\" ],\r\n",
      "        \"duration\" : \"18:25\",\r\n",
      "        \"subtitles\" : [ \"ku\", \"en\" ]\r\n",
      "      }\r\n",
      "    }, {\r\n",
      "      \"_index\" : \"ted3\",\r\n",
      "      \"_type\" : \"items\",\r\n",
      "      \"_id\" : \"3b68fa4bd210e860846875644aa86e8c4dad3e41\",\r\n",
      "      \"_score\" : 1.7321734,\r\n",
      "      \"_source\" : {\r\n",
      "        \"title\" : \"Are You A Good Listener?\",\r\n",
      "        \"url\" : \"http://ed.ted.com/featured/foptnjVE\",\r\n",
      "        \"youtube\" : \"-BdbiZcNBXg\",\r\n",
      "        \"student_level\" : [ \"1\", \"4\", \"3\", \"2\", \"5\" ],\r\n",
      "        \"content_type\" : [ \"teded_selects\" ],\r\n",
      "        \"duration\" : \"04:58\",\r\n",
      "        \"subtitles\" : [ \"ko\", \"vi\", \"es-419\", \"en-GB\", \"en\" ]\r\n",
      "      }\r\n",
      "    }, {\r\n",
      "      \"_index\" : \"ted3\",\r\n",
      "      \"_type\" : \"items\",\r\n",
      "      \"_id\" : \"3985caef1e0025df64512bdcebf1f3ae661eea88\",\r\n",
      "      \"_score\" : 1.2106789,\r\n",
      "      \"_source\" : {\r\n",
      "        \"title\" : \"How the mantis shrimp can break glass\",\r\n",
      "        \"url\" : \"http://ed.ted.com/featured/qXJQauax\",\r\n",
      "        \"youtube\" : \"LXrxCT0NpHo\",\r\n",
      "        \"student_level\" : [ \"2\", \"3\" ],\r\n",
      "        \"content_type\" : [ \"teded_selects\" ],\r\n",
      "        \"duration\" : \"07:21\",\r\n",
      "        \"subtitles\" : [ \"id\", \"vi\", \"es-ES\", \"de\", \"iw\", \"en\" ]\r\n",
      "      }\r\n",
      "    }, {\r\n",
      "      \"_index\" : \"ted3\",\r\n",
      "      \"_type\" : \"items\",\r\n",
      "      \"_id\" : \"089ba1d4eef4de301dab2aecee545c864efe8c8a\",\r\n",
      "      \"_score\" : 1.020693,\r\n",
      "      \"_source\" : {\r\n",
      "        \"title\" : \"Which sunscreen should you choose? - Mary Poffenroth\",\r\n",
      "        \"url\" : \"http://ed.ted.com/lessons/which-sunscreen-should-you-choose-mary-poffenroth\",\r\n",
      "        \"youtube\" : \"JX8rv_natkw\",\r\n",
      "        \"student_level\" : [ \"4\", \"3\", \"2\", \"1\" ],\r\n",
      "        \"content_type\" : [ \"originals\" ],\r\n",
      "        \"duration\" : \"04:40\",\r\n",
      "        \"subtitles\" : [ \"id\", \"vi\", \"tr\", \"th\", \"es-ES\", \"pt-BR\", \"iw\", \"en\" ]\r\n",
      "      }\r\n",
      "    }, {\r\n",
      "      \"_index\" : \"ted3\",\r\n",
      "      \"_type\" : \"items\",\r\n",
      "      \"_id\" : \"fd4b3676b60f5c1f4a994da9e9a352ab8abd7bd4\",\r\n",
      "      \"_score\" : 1.0088991,\r\n",
      "      \"_source\" : {\r\n",
      "        \"title\" : \"Psychotherapy and Sigmund Freud\",\r\n",
      "        \"url\" : \"http://ed.ted.com/featured/J8Nekd8A\",\r\n",
      "        \"youtube\" : \"mQaqXK7z9LM\",\r\n",
      "        \"student_level\" : [ \"1\", \"4\", \"3\", \"2\", \"5\" ],\r\n",
      "        \"content_type\" : [ \"teded_selects\" ],\r\n",
      "        \"duration\" : \"07:20\",\r\n",
      "        \"subtitles\" : [ \"it\", \"tr\", \"vi\", \"es-ES\", \"pt-PT\", \"fr\", \"cs\", \"en\" ]\r\n",
      "      }\r\n",
      "    }, {\r\n",
      "      \"_index\" : \"ted3\",\r\n",
      "      \"_type\" : \"items\",\r\n",
      "      \"_id\" : \"c86fb33b1023e9b47d8d0d03d0dd82381364fa98\",\r\n",
      "      \"_score\" : 1.0005186,\r\n",
      "      \"_source\" : {\r\n",
      "        \"title\" : \"Stanford University Commencement 2005 - Steve Jobs\",\r\n",
      "        \"url\" : \"http://ed.ted.com/lessons/steve-jobs-at-stanford-university-commencement-2005\",\r\n",
      "        \"youtube\" : \"UF8uR6Z6KLc\",\r\n",
      "        \"content_type\" : [ \"talks\" ],\r\n",
      "        \"duration\" : \"15:05\",\r\n",
      "        \"subtitles\" : [ \"km\", \"ja\", \"it\", \"es-ES\", \"pt-BR\", \"ar\", \"en\" ]\r\n",
      "      }\r\n",
      "    }, {\r\n",
      "      \"_index\" : \"ted3\",\r\n",
      "      \"_type\" : \"items\",\r\n",
      "      \"_id\" : \"65a0f6d0c7620bce578534b16731968c5b3dcfca\",\r\n",
      "      \"_score\" : 1.0005186,\r\n",
      "      \"_source\" : {\r\n",
      "        \"title\" : \"How North America got its shape - Peter J. Haproff\",\r\n",
      "        \"url\" : \"http://ed.ted.com/lessons/how-north-america-got-its-shape-peter-j-haproff\",\r\n",
      "        \"youtube\" : \"jzqnUvE66HA\",\r\n",
      "        \"student_level\" : [ \"4\", \"3\", \"2\" ],\r\n",
      "        \"content_type\" : [ \"originals\" ],\r\n",
      "        \"duration\" : \"04:58\",\r\n",
      "        \"subtitles\" : [ \"ko\", \"es-ES\", \"pt-PT\", \"pt-BR\", \"iw\", \"fr\", \"en\" ]\r\n",
      "      }\r\n",
      "    }, {\r\n",
      "      \"_index\" : \"ted3\",\r\n",
      "      \"_type\" : \"items\",\r\n",
      "      \"_id\" : \"a72d0863629579e9ba1b47a1f983ceb55a119f00\",\r\n",
      "      \"_score\" : 0.9421572,\r\n",
      "      \"_source\" : {\r\n",
      "        \"title\" : \"#TEDEdChat: Redefining Leadership | Drew Dudley | Leading with Lollipops |\",\r\n",
      "        \"url\" : \"http://ed.ted.com/featured/H9LmzVHG\",\r\n",
      "        \"youtube\" : \"hVCBrkrFrBE\",\r\n",
      "        \"content_type\" : [ \"teded_selects\" ],\r\n",
      "        \"duration\" : \"06:21\",\r\n",
      "        \"subtitles\" : [ \"ko\", \"ja\", \"es-ES\", \"sr\", \"pt-BR\", \"iw\", \"en\", \"bg\" ]\r\n",
      "      }\r\n",
      "    }, {\r\n",
      "      \"_index\" : \"ted3\",\r\n",
      "      \"_type\" : \"items\",\r\n",
      "      \"_id\" : \"a53b4a4fc4b59add3177365888839fbff1ccd804\",\r\n",
      "      \"_score\" : 0.9421572,\r\n",
      "      \"_source\" : {\r\n",
      "        \"title\" : \"4 Logical Paradoxes\",\r\n",
      "        \"url\" : \"http://ed.ted.com/featured/bi28vUuh\",\r\n",
      "        \"youtube\" : \"ME1XNMjXjZU\",\r\n",
      "        \"student_level\" : [ \"1\", \"4\", \"3\", \"2\", \"5\" ],\r\n",
      "        \"content_type\" : [ \"teded_selects\" ],\r\n",
      "        \"duration\" : \"07:26\",\r\n",
      "        \"subtitles\" : [ \"it\", \"es-419\", \"pt-PT\", \"ru\", \"fr\", \"nl\", \"en\" ]\r\n",
      "      }\r\n",
      "    }, {\r\n",
      "      \"_index\" : \"ted3\",\r\n",
      "      \"_type\" : \"items\",\r\n",
      "      \"_id\" : \"b53db05a9e9aade2d233c75b329b98c8fa956654\",\r\n",
      "      \"_score\" : 0.81655437,\r\n",
      "      \"_source\" : {\r\n",
      "        \"title\" : \"The French Revolution: Crash Course World History #29\",\r\n",
      "        \"url\" : \"http://ed.ted.com/featured/ibHbat6F\",\r\n",
      "        \"youtube\" : \"lTTvKwCylFY\",\r\n",
      "        \"student_level\" : [ \"4\", \"2\", \"3\" ],\r\n",
      "        \"content_type\" : [ \"teded_selects\" ],\r\n",
      "        \"duration\" : \"11:55\",\r\n",
      "        \"subtitles\" : [ \"id\", \"es-419\", \"sv\", \"no\", \"ro\", \"es-ES\", \"de\", \"iw\", \"nl\", \"ca\", \"fr\", \"zh-CN\", \"en\" ]\r\n",
      "      }\r\n",
      "    } ]\r\n",
      "  }\r\n",
      "}\r\n"
     ]
    }
   ],
   "source": [
    "!curl \"http://192.168.100.18:9200/ted3/items/_search?q=subtitles:en&pretty\""
   ]
  },
  {
   "cell_type": "markdown",
   "metadata": {},
   "source": [
    "some data is ackward...<br>\n",
    ": aUaInS6HIGo \t\t\tteded_selects \t23 and 1/2 hours<br>\n",
    "subtitles is not exist...<br>\n",
    "\n",
    "http://ed.ted.com/lessons?_=1472046196871&page=46&subtitles=en<br>\n",
    ": page 46. exist...<br>\n",
    "\n",
    "need to check a overwriting of elasticsearch<br>"
   ]
  },
  {
   "cell_type": "markdown",
   "metadata": {},
   "source": [
    "http://elasticsearch-py.readthedocs.io/en/master/helpers.html<br>\n",
    ": _op_type - update<br>\n",
    "\n",
    "https://github.com/knockrentals/scrapy-elasticsearch/blob/master/scrapyelasticsearch/scrapyelasticsearch.py<br>\n",
    ": index_action - _index, _type, _source, _id<br>"
   ]
  },
  {
   "cell_type": "code",
   "execution_count": null,
   "metadata": {
    "collapsed": true
   },
   "outputs": [],
   "source": []
  },
  {
   "cell_type": "code",
   "execution_count": 11,
   "metadata": {
    "collapsed": false
   },
   "outputs": [
    {
     "name": "stdout",
     "output_type": "stream",
     "text": [
      "[sudo] password for mrthink: \n",
      "\n"
     ]
    }
   ],
   "source": [
    "!sudo apt-get install nodejs"
   ]
  },
  {
   "cell_type": "code",
   "execution_count": null,
   "metadata": {
    "collapsed": true
   },
   "outputs": [],
   "source": [
    "!sudo apt-get install npm"
   ]
  },
  {
   "cell_type": "markdown",
   "metadata": {},
   "source": [
    "### Elasticdump"
   ]
  },
  {
   "cell_type": "code",
   "execution_count": null,
   "metadata": {
    "collapsed": true
   },
   "outputs": [],
   "source": [
    "# https://github.com/taskrabbit/elasticsearch-dump\n",
    "!sudo npm install elasticdump -g install elasticdump -g"
   ]
  },
  {
   "cell_type": "code",
   "execution_count": 17,
   "metadata": {
    "collapsed": false
   },
   "outputs": [
    {
     "name": "stdout",
     "output_type": "stream",
     "text": [
      "/usr/bin/env: node: No such file or directory\r\n"
     ]
    }
   ],
   "source": [
    "!elasticdump"
   ]
  },
  {
   "cell_type": "code",
   "execution_count": 18,
   "metadata": {
    "collapsed": false
   },
   "outputs": [
    {
     "name": "stdout",
     "output_type": "stream",
     "text": [
      "/usr/bin/env: node: No such file or directory\r\n"
     ]
    }
   ],
   "source": [
    "!elasticdump --input=http://localhost:9200/ted3 --output=ted3_dump.json --type=data"
   ]
  },
  {
   "cell_type": "code",
   "execution_count": null,
   "metadata": {
    "collapsed": true
   },
   "outputs": [],
   "source": []
  },
  {
   "cell_type": "code",
   "execution_count": null,
   "metadata": {
    "collapsed": true
   },
   "outputs": [],
   "source": [
    "!sudo docker pull taskrabbit/elasticsearch-dump"
   ]
  },
  {
   "cell_type": "code",
   "execution_count": null,
   "metadata": {
    "collapsed": true
   },
   "outputs": [],
   "source": [
    "!sudo docker run --rm -ti -v /home/mrthink/data/elasticsearch/dump:/data taskrabbit/elasticsearch-dump --input=http://192.168.100.18:9200/ted3 --output=/data/ted3_dump.json --type=data"
   ]
  }
 ],
 "metadata": {
  "kernelspec": {
   "display_name": "Python 2",
   "language": "python",
   "name": "python2"
  },
  "language_info": {
   "codemirror_mode": {
    "name": "ipython",
    "version": 2
   },
   "file_extension": ".py",
   "mimetype": "text/x-python",
   "name": "python",
   "nbconvert_exporter": "python",
   "pygments_lexer": "ipython2",
   "version": "2.7.11"
  }
 },
 "nbformat": 4,
 "nbformat_minor": 0
}
